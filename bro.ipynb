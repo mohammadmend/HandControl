{
 "cells": [
  {
   "cell_type": "code",
   "execution_count": 1,
   "metadata": {},
   "outputs": [
    {
     "name": "stdout",
     "output_type": "stream",
     "text": [
      "Train model on 1305 examples\n",
      "Model trained in 0:01:11.756910\n",
      "Accuracy: 0.9929701230228472\n"
     ]
    }
   ],
   "source": [
    "import pandas as pd\n",
    "import ydf\n",
    "import numpy as np\n",
    "train = pd.read_excel(\"C:/Users/amend/Desktop/hand_Data_train_f.xlsx\")\n",
    "train.replace(r'^\\s*$', np.nan, regex=True, inplace=True)\n",
    "train.dropna(inplace=True)\n",
    "tuner=ydf.RandomSearchTuner(num_trials=50)\n",
    "tuner.choice('max_depth',[10,16,18,20,22,30])\n",
    "tuner.choice('num_trees',[150,300,450,600,700])\n",
    "tuner.choice('categorical_algorithm',['CART','ONE_HOT','RANDOM'])\n",
    "model = ydf.RandomForestLearner(label='gesture',tuner=tuner).train(train)\n",
    "\n",
    "test = pd.read_excel(\"C:/Users/amend/Desktop/test_ydf.xlsx\")\n",
    "test.replace(r'^\\s*$', np.nan, regex=True, inplace=True)\n",
    "test.dropna(inplace=True)\n",
    "\n",
    "\n",
    "\n",
    "# Evaluate the model\n",
    "evaluation = model.evaluate(test)\n",
    "print(f\"Accuracy: {evaluation.accuracy}\")\n",
    "\n",
    "# Predict\n",
    "test = pd.read_excel(\"C:/Users/amend/Desktop/hand_Data_train_f.xlsx\")\n",
    "test.replace(r'^\\s*$', np.nan, regex=True, inplace=True)\n",
    "test.dropna(inplace=True)\n",
    "test.drop['gesture']\n"
   ]
  },
  {
   "cell_type": "code",
   "execution_count": 22,
   "metadata": {},
   "outputs": [],
   "source": [
    "pred=model.predict(test)\n",
    "bruh=pd.read_excel(\"C:/Users/amend/Desktop/hand_Data_train_f.xlsx\")\n"
   ]
  },
  {
   "cell_type": "code",
   "execution_count": 23,
   "metadata": {},
   "outputs": [],
   "source": [
    "model.save(\"C:/Users/amend/Desktop/m_gesture/my_tree\")"
   ]
  }
 ],
 "metadata": {
  "kernelspec": {
   "display_name": "gesture",
   "language": "python",
   "name": "python3"
  },
  "language_info": {
   "codemirror_mode": {
    "name": "ipython",
    "version": 3
   },
   "file_extension": ".py",
   "mimetype": "text/x-python",
   "name": "python",
   "nbconvert_exporter": "python",
   "pygments_lexer": "ipython3",
   "version": "3.12.4"
  }
 },
 "nbformat": 4,
 "nbformat_minor": 2
}
